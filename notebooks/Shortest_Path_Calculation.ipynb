{
 "cells": [
  {
   "cell_type": "markdown",
   "metadata": {},
   "source": [
    "<a href=\"https://colab.research.google.com/github/batu-el/understanding-inductive-biases-of-gnns/blob/main/notebooks/Shortest_Path_Calculation.ipynb\" target=\"_parent\"><img src=\"https://colab.research.google.com/assets/colab-badge.svg\" alt=\"Open In Colab\"/></a>"
   ]
  },
  {
   "cell_type": "code",
   "execution_count": 1,
   "metadata": {
    "colab": {
     "base_uri": "https://localhost:8080/"
    },
    "executionInfo": {
     "elapsed": 8631,
     "status": "ok",
     "timestamp": 1710707381499,
     "user": {
      "displayName": "Batu El",
      "userId": "11666366648103508022"
     },
     "user_tz": 0
    },
    "id": "r1AMaWw-T1AU",
    "outputId": "14d23a07-140a-442b-9e5d-8e7950c33ef1"
   },
   "outputs": [
    {
     "name": "stdout",
     "output_type": "stream",
     "text": [
      "Collecting torch_geometric\n",
      "  Downloading torch_geometric-2.5.1-py3-none-any.whl (1.1 MB)\n",
      "\u001b[2K     \u001b[90m━━━━━━━━━━━━━━━━━━━━━━━━━━━━━━━━━━━━━━━━\u001b[0m \u001b[32m1.1/1.1 MB\u001b[0m \u001b[31m9.4 MB/s\u001b[0m eta \u001b[36m0:00:00\u001b[0m\n",
      "\u001b[?25hRequirement already satisfied: tqdm in /usr/local/lib/python3.10/dist-packages (from torch_geometric) (4.66.2)\n",
      "Requirement already satisfied: numpy in /usr/local/lib/python3.10/dist-packages (from torch_geometric) (1.25.2)\n",
      "Requirement already satisfied: scipy in /usr/local/lib/python3.10/dist-packages (from torch_geometric) (1.11.4)\n",
      "Requirement already satisfied: fsspec in /usr/local/lib/python3.10/dist-packages (from torch_geometric) (2023.6.0)\n",
      "Requirement already satisfied: jinja2 in /usr/local/lib/python3.10/dist-packages (from torch_geometric) (3.1.3)\n",
      "Requirement already satisfied: aiohttp in /usr/local/lib/python3.10/dist-packages (from torch_geometric) (3.9.3)\n",
      "Requirement already satisfied: requests in /usr/local/lib/python3.10/dist-packages (from torch_geometric) (2.31.0)\n",
      "Requirement already satisfied: pyparsing in /usr/local/lib/python3.10/dist-packages (from torch_geometric) (3.1.2)\n",
      "Requirement already satisfied: scikit-learn in /usr/local/lib/python3.10/dist-packages (from torch_geometric) (1.2.2)\n",
      "Requirement already satisfied: psutil>=5.8.0 in /usr/local/lib/python3.10/dist-packages (from torch_geometric) (5.9.5)\n",
      "Requirement already satisfied: aiosignal>=1.1.2 in /usr/local/lib/python3.10/dist-packages (from aiohttp->torch_geometric) (1.3.1)\n",
      "Requirement already satisfied: attrs>=17.3.0 in /usr/local/lib/python3.10/dist-packages (from aiohttp->torch_geometric) (23.2.0)\n",
      "Requirement already satisfied: frozenlist>=1.1.1 in /usr/local/lib/python3.10/dist-packages (from aiohttp->torch_geometric) (1.4.1)\n",
      "Requirement already satisfied: multidict<7.0,>=4.5 in /usr/local/lib/python3.10/dist-packages (from aiohttp->torch_geometric) (6.0.5)\n",
      "Requirement already satisfied: yarl<2.0,>=1.0 in /usr/local/lib/python3.10/dist-packages (from aiohttp->torch_geometric) (1.9.4)\n",
      "Requirement already satisfied: async-timeout<5.0,>=4.0 in /usr/local/lib/python3.10/dist-packages (from aiohttp->torch_geometric) (4.0.3)\n",
      "Requirement already satisfied: MarkupSafe>=2.0 in /usr/local/lib/python3.10/dist-packages (from jinja2->torch_geometric) (2.1.5)\n",
      "Requirement already satisfied: charset-normalizer<4,>=2 in /usr/local/lib/python3.10/dist-packages (from requests->torch_geometric) (3.3.2)\n",
      "Requirement already satisfied: idna<4,>=2.5 in /usr/local/lib/python3.10/dist-packages (from requests->torch_geometric) (3.6)\n",
      "Requirement already satisfied: urllib3<3,>=1.21.1 in /usr/local/lib/python3.10/dist-packages (from requests->torch_geometric) (2.0.7)\n",
      "Requirement already satisfied: certifi>=2017.4.17 in /usr/local/lib/python3.10/dist-packages (from requests->torch_geometric) (2024.2.2)\n",
      "Requirement already satisfied: joblib>=1.1.1 in /usr/local/lib/python3.10/dist-packages (from scikit-learn->torch_geometric) (1.3.2)\n",
      "Requirement already satisfied: threadpoolctl>=2.0.0 in /usr/local/lib/python3.10/dist-packages (from scikit-learn->torch_geometric) (3.3.0)\n",
      "Installing collected packages: torch_geometric\n",
      "Successfully installed torch_geometric-2.5.1\n"
     ]
    }
   ],
   "source": [
    "!pip install torch_geometric"
   ]
  },
  {
   "cell_type": "code",
   "execution_count": 6,
   "metadata": {
    "colab": {
     "base_uri": "https://localhost:8080/"
    },
    "executionInfo": {
     "elapsed": 10821,
     "status": "ok",
     "timestamp": 1710643840427,
     "user": {
      "displayName": "Batu El",
      "userId": "11666366648103508022"
     },
     "user_tz": 0
    },
    "id": "CPhqXClpTqTC",
    "outputId": "a7d2cc5a-f4c7-457e-eb6b-c7563ce3ad2c"
   },
   "outputs": [
    {
     "name": "stderr",
     "output_type": "stream",
     "text": [
      "Downloading https://github.com/kimiyoung/planetoid/raw/master/data/ind.cora.x\n",
      "Downloading https://github.com/kimiyoung/planetoid/raw/master/data/ind.cora.tx\n",
      "Downloading https://github.com/kimiyoung/planetoid/raw/master/data/ind.cora.allx\n",
      "Downloading https://github.com/kimiyoung/planetoid/raw/master/data/ind.cora.y\n",
      "Downloading https://github.com/kimiyoung/planetoid/raw/master/data/ind.cora.ty\n",
      "Downloading https://github.com/kimiyoung/planetoid/raw/master/data/ind.cora.ally\n",
      "Downloading https://github.com/kimiyoung/planetoid/raw/master/data/ind.cora.graph\n",
      "Downloading https://github.com/kimiyoung/planetoid/raw/master/data/ind.cora.test.index\n",
      "Processing...\n",
      "Done!\n",
      "Downloading https://github.com/kimiyoung/planetoid/raw/master/data/ind.citeseer.x\n",
      "Downloading https://github.com/kimiyoung/planetoid/raw/master/data/ind.citeseer.tx\n",
      "Downloading https://github.com/kimiyoung/planetoid/raw/master/data/ind.citeseer.allx\n",
      "Downloading https://github.com/kimiyoung/planetoid/raw/master/data/ind.citeseer.y\n",
      "Downloading https://github.com/kimiyoung/planetoid/raw/master/data/ind.citeseer.ty\n",
      "Downloading https://github.com/kimiyoung/planetoid/raw/master/data/ind.citeseer.ally\n",
      "Downloading https://github.com/kimiyoung/planetoid/raw/master/data/ind.citeseer.graph\n",
      "Downloading https://github.com/kimiyoung/planetoid/raw/master/data/ind.citeseer.test.index\n",
      "Processing...\n",
      "Done!\n",
      "Downloading https://raw.githubusercontent.com/graphdml-uiuc-jlu/geom-gcn/f1fc0d14b3b019c562737240d06ec83b07d16a8f/new_data/chameleon/out1_node_feature_label.txt\n",
      "Downloading https://raw.githubusercontent.com/graphdml-uiuc-jlu/geom-gcn/f1fc0d14b3b019c562737240d06ec83b07d16a8f/new_data/chameleon/out1_graph_edges.txt\n",
      "Downloading https://raw.githubusercontent.com/graphdml-uiuc-jlu/geom-gcn/f1fc0d14b3b019c562737240d06ec83b07d16a8f/splits/chameleon_split_0.6_0.2_0.npz\n",
      "Downloading https://raw.githubusercontent.com/graphdml-uiuc-jlu/geom-gcn/f1fc0d14b3b019c562737240d06ec83b07d16a8f/splits/chameleon_split_0.6_0.2_1.npz\n",
      "Downloading https://raw.githubusercontent.com/graphdml-uiuc-jlu/geom-gcn/f1fc0d14b3b019c562737240d06ec83b07d16a8f/splits/chameleon_split_0.6_0.2_2.npz\n",
      "Downloading https://raw.githubusercontent.com/graphdml-uiuc-jlu/geom-gcn/f1fc0d14b3b019c562737240d06ec83b07d16a8f/splits/chameleon_split_0.6_0.2_3.npz\n",
      "Downloading https://raw.githubusercontent.com/graphdml-uiuc-jlu/geom-gcn/f1fc0d14b3b019c562737240d06ec83b07d16a8f/splits/chameleon_split_0.6_0.2_4.npz\n",
      "Downloading https://raw.githubusercontent.com/graphdml-uiuc-jlu/geom-gcn/f1fc0d14b3b019c562737240d06ec83b07d16a8f/splits/chameleon_split_0.6_0.2_5.npz\n",
      "Downloading https://raw.githubusercontent.com/graphdml-uiuc-jlu/geom-gcn/f1fc0d14b3b019c562737240d06ec83b07d16a8f/splits/chameleon_split_0.6_0.2_6.npz\n",
      "Downloading https://raw.githubusercontent.com/graphdml-uiuc-jlu/geom-gcn/f1fc0d14b3b019c562737240d06ec83b07d16a8f/splits/chameleon_split_0.6_0.2_7.npz\n",
      "Downloading https://raw.githubusercontent.com/graphdml-uiuc-jlu/geom-gcn/f1fc0d14b3b019c562737240d06ec83b07d16a8f/splits/chameleon_split_0.6_0.2_8.npz\n",
      "Downloading https://raw.githubusercontent.com/graphdml-uiuc-jlu/geom-gcn/f1fc0d14b3b019c562737240d06ec83b07d16a8f/splits/chameleon_split_0.6_0.2_9.npz\n",
      "Processing...\n",
      "Done!\n",
      "Downloading https://raw.githubusercontent.com/graphdml-uiuc-jlu/geom-gcn/f1fc0d14b3b019c562737240d06ec83b07d16a8f/new_data/squirrel/out1_node_feature_label.txt\n",
      "Downloading https://raw.githubusercontent.com/graphdml-uiuc-jlu/geom-gcn/f1fc0d14b3b019c562737240d06ec83b07d16a8f/new_data/squirrel/out1_graph_edges.txt\n",
      "Downloading https://raw.githubusercontent.com/graphdml-uiuc-jlu/geom-gcn/f1fc0d14b3b019c562737240d06ec83b07d16a8f/splits/squirrel_split_0.6_0.2_0.npz\n",
      "Downloading https://raw.githubusercontent.com/graphdml-uiuc-jlu/geom-gcn/f1fc0d14b3b019c562737240d06ec83b07d16a8f/splits/squirrel_split_0.6_0.2_1.npz\n",
      "Downloading https://raw.githubusercontent.com/graphdml-uiuc-jlu/geom-gcn/f1fc0d14b3b019c562737240d06ec83b07d16a8f/splits/squirrel_split_0.6_0.2_2.npz\n",
      "Downloading https://raw.githubusercontent.com/graphdml-uiuc-jlu/geom-gcn/f1fc0d14b3b019c562737240d06ec83b07d16a8f/splits/squirrel_split_0.6_0.2_3.npz\n",
      "Downloading https://raw.githubusercontent.com/graphdml-uiuc-jlu/geom-gcn/f1fc0d14b3b019c562737240d06ec83b07d16a8f/splits/squirrel_split_0.6_0.2_4.npz\n",
      "Downloading https://raw.githubusercontent.com/graphdml-uiuc-jlu/geom-gcn/f1fc0d14b3b019c562737240d06ec83b07d16a8f/splits/squirrel_split_0.6_0.2_5.npz\n",
      "Downloading https://raw.githubusercontent.com/graphdml-uiuc-jlu/geom-gcn/f1fc0d14b3b019c562737240d06ec83b07d16a8f/splits/squirrel_split_0.6_0.2_6.npz\n",
      "Downloading https://raw.githubusercontent.com/graphdml-uiuc-jlu/geom-gcn/f1fc0d14b3b019c562737240d06ec83b07d16a8f/splits/squirrel_split_0.6_0.2_7.npz\n",
      "Downloading https://raw.githubusercontent.com/graphdml-uiuc-jlu/geom-gcn/f1fc0d14b3b019c562737240d06ec83b07d16a8f/splits/squirrel_split_0.6_0.2_8.npz\n",
      "Downloading https://raw.githubusercontent.com/graphdml-uiuc-jlu/geom-gcn/f1fc0d14b3b019c562737240d06ec83b07d16a8f/splits/squirrel_split_0.6_0.2_9.npz\n",
      "Processing...\n",
      "Done!\n"
     ]
    }
   ],
   "source": [
    "### Shortest Path Calculation ###\n",
    "from torch_geometric.datasets import Planetoid, WebKB, WikipediaNetwork\n",
    "\n",
    "DATASETS = {}\n",
    "\n",
    "# Chamelion & Squirrel\n",
    "# Cora & Citeseer\n",
    "# Cornell & Texas & Wisconsin\n",
    "\n",
    "## Mid Size Datasets\n",
    "# Citation Networks\n",
    "dataset = 'Cora'\n",
    "dataset = Planetoid('/tmp/Cora', dataset)\n",
    "data = dataset[0]\n",
    "DATASETS['Cora'] = data\n",
    "dataset = 'Citeseer'\n",
    "dataset = Planetoid('/tmp/Citeseer', dataset)\n",
    "data = dataset[0]\n",
    "DATASETS['Citeseer'] = data\n",
    "# Wikipedia Pages\n",
    "dataset = 'Chameleon'\n",
    "dataset = WikipediaNetwork(root='/tmp/Chameleon', name='Chameleon')\n",
    "data = dataset[0]\n",
    "DATASETS['Chameleon'] = data\n",
    "dataset = 'Squirrel'\n",
    "dataset = WikipediaNetwork(root='/tmp/Squirrel', name='Squirrel')\n",
    "data = dataset[0]\n",
    "DATASETS['Squirrel'] = data\n",
    "### Small Sized Datasets\n",
    "# Web Pages\n",
    "dataset = WebKB(root='/tmp/Cornell', name='Cornell')\n",
    "data = dataset[0]\n",
    "DATASETS['Cornell'] = data\n",
    "dataset = WebKB(root='/tmp/Texas', name='Texas')\n",
    "data = dataset[0]\n",
    "DATASETS['Texas'] = data\n",
    "dataset = WebKB(root='/tmp/Wisconsin', name='Wisconsin')\n",
    "data = dataset[0]\n",
    "DATASETS['Wisconsin'] = data\n"
   ]
  },
  {
   "cell_type": "code",
   "execution_count": 7,
   "metadata": {
    "colab": {
     "base_uri": "https://localhost:8080/"
    },
    "executionInfo": {
     "elapsed": 1310201,
     "status": "ok",
     "timestamp": 1710645154892,
     "user": {
      "displayName": "Batu El",
      "userId": "11666366648103508022"
     },
     "user_tz": 0
    },
    "id": "qz2iFy09TxJD",
    "outputId": "beb48b49-b6ef-4651-e361-9875a50b28c6"
   },
   "outputs": [
    {
     "name": "stderr",
     "output_type": "stream",
     "text": [
      "\r  0%|          | 0/7 [00:00<?, ?it/s]"
     ]
    },
    {
     "name": "stdout",
     "output_type": "stream",
     "text": [
      "Cora\n"
     ]
    },
    {
     "name": "stderr",
     "output_type": "stream",
     "text": [
      "\r 14%|█▍        | 1/7 [02:09<12:54, 129.05s/it]"
     ]
    },
    {
     "name": "stdout",
     "output_type": "stream",
     "text": [
      "Citeseer\n"
     ]
    },
    {
     "name": "stderr",
     "output_type": "stream",
     "text": [
      "\r 29%|██▊       | 2/7 [05:59<15:43, 188.76s/it]"
     ]
    },
    {
     "name": "stdout",
     "output_type": "stream",
     "text": [
      "Chameleon\n"
     ]
    },
    {
     "name": "stderr",
     "output_type": "stream",
     "text": [
      "\r 43%|████▎     | 3/7 [07:15<09:09, 137.36s/it]"
     ]
    },
    {
     "name": "stdout",
     "output_type": "stream",
     "text": [
      "Squirrel\n"
     ]
    },
    {
     "name": "stderr",
     "output_type": "stream",
     "text": [
      "100%|██████████| 7/7 [21:50<00:00, 187.15s/it]"
     ]
    },
    {
     "name": "stdout",
     "output_type": "stream",
     "text": [
      "Cornell\n",
      "Texas\n",
      "Wisconsin\n"
     ]
    },
    {
     "name": "stderr",
     "output_type": "stream",
     "text": [
      "\n"
     ]
    }
   ],
   "source": [
    "import tqdm\n",
    "import networkx as nx\n",
    "import torch\n",
    "from torch_geometric.utils import remove_self_loops, dense_to_sparse, to_dense_batch, to_dense_adj\n",
    "\n",
    "### Shortest Paths ###\n",
    "def get_shortest_path_matrix(adjacency_matrix):\n",
    "    graph = nx.from_numpy_array(adjacency_matrix.cpu().numpy(), create_using=nx.DiGraph)\n",
    "    shortest_path_matrix = nx.floyd_warshall_numpy(graph)\n",
    "    shortest_path_matrix = torch.tensor(shortest_path_matrix).float()\n",
    "    return shortest_path_matrix\n",
    "\n",
    "SHORTEST_PATHS = {}\n",
    "for data_key in tqdm.tqdm(DATASETS):\n",
    "  print(data_key)\n",
    "  data = DATASETS[data_key]\n",
    "  dense_adj = to_dense_adj(data.edge_index, max_num_nodes = data.x.shape[0])[0]\n",
    "  dense_shortest_path_matrix = get_shortest_path_matrix(dense_adj)\n",
    "  SHORTEST_PATHS[data_key] = dense_shortest_path_matrix"
   ]
  },
  {
   "cell_type": "code",
   "execution_count": 11,
   "metadata": {
    "executionInfo": {
     "elapsed": 596,
     "status": "ok",
     "timestamp": 1710646146505,
     "user": {
      "displayName": "Batu El",
      "userId": "11666366648103508022"
     },
     "user_tz": 0
    },
    "id": "3jky1nSPUGZn"
   },
   "outputs": [],
   "source": [
    "### Save the Shortest Paths\n",
    "import pickle\n",
    "\n",
    "with open('sp_dict2.pkl', 'wb') as f:\n",
    "    pickle.dump(SHORTEST_PATHS, f, protocol=pickle.HIGHEST_PROTOCOL)\n",
    "\n"
   ]
  },
  {
   "cell_type": "code",
   "execution_count": 12,
   "metadata": {
    "executionInfo": {
     "elapsed": 452,
     "status": "ok",
     "timestamp": 1710646171304,
     "user": {
      "displayName": "Batu El",
      "userId": "11666366648103508022"
     },
     "user_tz": 0
    },
    "id": "g5zR6YBbUjCM"
   },
   "outputs": [],
   "source": [
    "import pickle\n",
    "with open('sp_dict2.pkl', 'rb') as f:\n",
    "    SHORTEST_PATHS_2 = pickle.load(f)"
   ]
  },
  {
   "cell_type": "code",
   "execution_count": 13,
   "metadata": {
    "colab": {
     "base_uri": "https://localhost:8080/"
    },
    "executionInfo": {
     "elapsed": 1,
     "status": "ok",
     "timestamp": 1710646175271,
     "user": {
      "displayName": "Batu El",
      "userId": "11666366648103508022"
     },
     "user_tz": 0
    },
    "id": "UPgFhVJ2c1nW",
    "outputId": "5a7201dc-992c-4105-93fd-b16ab0dca345"
   },
   "outputs": [
    {
     "data": {
      "text/plain": [
       "{'Cora': tensor([[0., 5., 4.,  ..., inf, 6., 5.],\n",
       "         [5., 0., 1.,  ..., inf, 5., 5.],\n",
       "         [4., 1., 0.,  ..., inf, 4., 4.],\n",
       "         ...,\n",
       "         [inf, inf, inf,  ..., 0., inf, inf],\n",
       "         [6., 5., 4.,  ..., inf, 0., 1.],\n",
       "         [5., 5., 4.,  ..., inf, 1., 0.]]),\n",
       " 'Citeseer': tensor([[0., inf, inf,  ..., inf, inf, inf],\n",
       "         [inf, 0., inf,  ..., 5., inf, 7.],\n",
       "         [inf, inf, 0.,  ..., inf, inf, inf],\n",
       "         ...,\n",
       "         [inf, 5., inf,  ..., 0., inf, 9.],\n",
       "         [inf, inf, inf,  ..., inf, 0., inf],\n",
       "         [inf, 7., inf,  ..., 9., inf, 0.]]),\n",
       " 'Chameleon': tensor([[0., 8., inf,  ..., 8., 6., inf],\n",
       "         [inf, 0., inf,  ..., 6., 6., inf],\n",
       "         [inf, 4., 0.,  ..., 4., 1., inf],\n",
       "         ...,\n",
       "         [inf, 9., inf,  ..., 0., 7., inf],\n",
       "         [inf, 4., inf,  ..., 4., 0., inf],\n",
       "         [inf, 6., inf,  ..., 6., 4., 0.]]),\n",
       " 'Squirrel': tensor([[0., inf, 2.,  ..., 2., 2., 6.],\n",
       "         [inf, 0., 4.,  ..., 4., 4., 7.],\n",
       "         [inf, inf, 0.,  ..., 2., 3., 7.],\n",
       "         ...,\n",
       "         [inf, inf, 3.,  ..., 0., 3., 6.],\n",
       "         [inf, inf, 2.,  ..., 3., 0., 6.],\n",
       "         [inf, inf, 5.,  ..., 5., 5., 0.]]),\n",
       " 'Cornell': tensor([[0., inf, inf,  ..., inf, inf, inf],\n",
       "         [inf, 0., inf,  ..., inf, inf, inf],\n",
       "         [inf, inf, 0.,  ..., inf, inf, inf],\n",
       "         ...,\n",
       "         [inf, inf, inf,  ..., 0., inf, inf],\n",
       "         [inf, inf, inf,  ..., inf, 0., inf],\n",
       "         [inf, inf, inf,  ..., inf, inf, 0.]]),\n",
       " 'Texas': tensor([[0., inf, inf,  ..., inf, inf, inf],\n",
       "         [inf, 0., inf,  ..., inf, inf, inf],\n",
       "         [inf, inf, 0.,  ..., inf, inf, inf],\n",
       "         ...,\n",
       "         [inf, inf, inf,  ..., 0., inf, inf],\n",
       "         [inf, inf, inf,  ..., inf, 0., inf],\n",
       "         [inf, inf, inf,  ..., inf, inf, 0.]]),\n",
       " 'Wisconsin': tensor([[0., inf, 4.,  ..., inf, inf, inf],\n",
       "         [inf, 0., inf,  ..., inf, inf, inf],\n",
       "         [inf, inf, 0.,  ..., inf, inf, inf],\n",
       "         ...,\n",
       "         [inf, inf, inf,  ..., 0., inf, inf],\n",
       "         [inf, inf, inf,  ..., inf, 0., inf],\n",
       "         [inf, inf, 5.,  ..., inf, inf, 0.]])}"
      ]
     },
     "execution_count": 13,
     "metadata": {},
     "output_type": "execute_result"
    }
   ],
   "source": [
    "SHORTEST_PATHS_2"
   ]
  },
  {
   "cell_type": "code",
   "execution_count": null,
   "metadata": {
    "id": "_oz-7RJ8dSQa"
   },
   "outputs": [],
   "source": []
  }
 ],
 "metadata": {
  "colab": {
   "authorship_tag": "ABX9TyNgDns2l8ssj58aswMAXG5I",
   "machine_shape": "hm",
   "mount_file_id": "1bXd3lnA3pzNckImzde-zcUxKrAFbCGg-",
   "provenance": []
  },
  "kernelspec": {
   "display_name": "Python 3",
   "name": "python3"
  },
  "language_info": {
   "name": "python"
  }
 },
 "nbformat": 4,
 "nbformat_minor": 0
}
